{
 "cells": [
  {
   "cell_type": "code",
   "execution_count": 2,
   "id": "fd4d2186-2fe0-443c-9c6d-68a7ef0491eb",
   "metadata": {
    "tags": []
   },
   "outputs": [],
   "source": [
    "import os \n",
    "dir_path = os.path.dirname(os.path.realpath(__file__))\n"
   ]
  },
  {
   "cell_type": "code",
   "execution_count": 3,
   "id": "5cd32bde-a8b0-41cf-b624-67e8fd7da316",
   "metadata": {
    "tags": []
   },
   "outputs": [
    {
     "data": {
      "text/plain": [
       "'/home/jose/Desktop/USACH/2023_I/Electrica/Differential-Evolution-Frequency-Model-Fitting/test'"
      ]
     },
     "execution_count": 3,
     "metadata": {},
     "output_type": "execute_result"
    }
   ],
   "source": [
    "cwd = os.getcwd()\n",
    "cwd"
   ]
  },
  {
   "cell_type": "code",
   "execution_count": 5,
   "id": "edca2430-a547-47a1-a058-cfaacbd881b0",
   "metadata": {
    "tags": []
   },
   "outputs": [
    {
     "data": {
      "text/plain": [
       "'/home/jose/Desktop/USACH/2023_I/Electrica/Differential-Evolution-Frequency-Model-Fitting'"
      ]
     },
     "execution_count": 5,
     "metadata": {},
     "output_type": "execute_result"
    }
   ],
   "source": [
    "dir_path = os.path.dirname(os.path.realpath(cwd))\n",
    "dir_path"
   ]
  },
  {
   "cell_type": "code",
   "execution_count": 10,
   "id": "505ee46a-b1d4-49f9-a537-841d394d2b62",
   "metadata": {
    "tags": []
   },
   "outputs": [
    {
     "data": {
      "text/plain": [
       "['.git',\n",
       " 'out',\n",
       " 'README.md',\n",
       " 'runs.py',\n",
       " 'Example.ipynb',\n",
       " '.gitignore',\n",
       " 'data',\n",
       " 'src',\n",
       " 'test',\n",
       " '.ipynb_checkpoints']"
      ]
     },
     "execution_count": 10,
     "metadata": {},
     "output_type": "execute_result"
    }
   ],
   "source": [
    "dir_list = os.listdir(dir_path)\n",
    "dir_list"
   ]
  },
  {
   "cell_type": "code",
   "execution_count": 18,
   "id": "de571c2e-ac41-4d44-b465-2ded55fc22d1",
   "metadata": {
    "tags": []
   },
   "outputs": [
    {
     "data": {
      "text/plain": [
       "'/home/jose/Desktop/USACH/2023_I/Electrica/Differential-Evolution-Frequency-Model-Fitting/test/out'"
      ]
     },
     "execution_count": 18,
     "metadata": {},
     "output_type": "execute_result"
    }
   ],
   "source": [
    "os.path.realpath(dir_list[1])"
   ]
  },
  {
   "cell_type": "code",
   "execution_count": 15,
   "id": "5cd5141f-551e-46ff-ad40-e6ab9f251de8",
   "metadata": {
    "tags": []
   },
   "outputs": [
    {
     "name": "stdout",
     "output_type": "stream",
     "text": [
      ".git\n",
      ".gitignore\n"
     ]
    }
   ],
   "source": [
    "for entry in dir_list:\n",
    "    if \"git\" in entry:\n",
    "            print(entry)"
   ]
  },
  {
   "cell_type": "code",
   "execution_count": 17,
   "id": "746fc44b-9d04-42d8-af06-4f05fcd2d6df",
   "metadata": {
    "tags": []
   },
   "outputs": [
    {
     "name": "stdout",
     "output_type": "stream",
     "text": [
      ".git\n",
      ".gitignore\n"
     ]
    }
   ],
   "source": [
    "with os.scandir(dir_path) as entries:\n",
    "    for entry in entries:\n",
    "        if \".g\" in entry.name:\n",
    "            print(entry.name)"
   ]
  }
 ],
 "metadata": {
  "kernelspec": {
   "display_name": "Python 3 (ipykernel)",
   "language": "python",
   "name": "python3"
  },
  "language_info": {
   "codemirror_mode": {
    "name": "ipython",
    "version": 3
   },
   "file_extension": ".py",
   "mimetype": "text/x-python",
   "name": "python",
   "nbconvert_exporter": "python",
   "pygments_lexer": "ipython3",
   "version": "3.8.10"
  }
 },
 "nbformat": 4,
 "nbformat_minor": 5
}
